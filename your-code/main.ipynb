{
 "cells": [
  {
   "cell_type": "markdown",
   "metadata": {},
   "source": [
    "# Intrduction to NumPy\n",
    "\n",
    "\n",
    "#### 1. Import NumPy under the name np."
   ]
  },
  {
   "cell_type": "code",
   "execution_count": 3,
   "metadata": {},
   "outputs": [],
   "source": [
    "# your code here\n",
    "import numpy as np"
   ]
  },
  {
   "cell_type": "markdown",
   "metadata": {},
   "source": [
    "#### 2. Print your NumPy version."
   ]
  },
  {
   "cell_type": "code",
   "execution_count": 4,
   "metadata": {},
   "outputs": [
    {
     "data": {
      "text/plain": [
       "'1.17.2'"
      ]
     },
     "execution_count": 4,
     "metadata": {},
     "output_type": "execute_result"
    }
   ],
   "source": [
    "# your code here\n",
    "np.version.version"
   ]
  },
  {
   "cell_type": "markdown",
   "metadata": {},
   "source": [
    "#### 3. Generate a 2x3x5 3-dimensional array with random values. Assign the array to variable *a*.\n",
    "**Challenge**: there are at least three easy ways that use numpy to generate random arrays. How many ways can you find?"
   ]
  },
  {
   "cell_type": "code",
   "execution_count": 6,
   "metadata": {},
   "outputs": [
    {
     "name": "stdout",
     "output_type": "stream",
     "text": [
      "[[[0.69471841 0.95293258 0.56994401 0.15962752 0.3289983 ]\n",
      "  [0.06782549 0.78106273 0.44663008 0.38004194 0.80580282]\n",
      "  [0.44912041 0.01126432 0.24276345 0.77431388 0.36342136]]\n",
      "\n",
      " [[0.68783512 0.60136456 0.74548641 0.30369637 0.17862069]\n",
      "  [0.89259473 0.37947965 0.29616912 0.37257548 0.86643742]\n",
      "  [0.65101742 0.51528465 0.63257559 0.6080083  0.61579248]]]\n",
      "\n",
      "(2, 3, 5)\n",
      "\n",
      "30\n"
     ]
    }
   ],
   "source": [
    "# Method 1\n",
    "a = np.random.random((2,3,5)) ## *0.4 + 0.3 # in order to get a range between two certain numbers. first multuply the diference of the highest number that we want and after that add the value of the minimun value \n",
    "print (a)\n",
    "print('')\n",
    "print(a.shape) \n",
    "print('')\n",
    "print(a.size) # = 3*5*2"
   ]
  },
  {
   "cell_type": "code",
   "execution_count": 7,
   "metadata": {},
   "outputs": [
    {
     "name": "stdout",
     "output_type": "stream",
     "text": [
      "[[[ 36  14  45 110  41]\n",
      "  [105 120 130  87  57]\n",
      "  [162  90  25  16  40]]\n",
      "\n",
      " [[ 32  25  58  63  74]\n",
      "  [ 28 170 184   0 164]\n",
      "  [ 67 135 155  87  20]]]\n",
      "\n",
      "\n",
      "This is slicing: \n",
      "\n",
      " [[170 184   0]\n",
      " [135 155  87]], \n",
      "\n",
      " here we have the values from second to last row, in the second to the third column of the second grup\n"
     ]
    }
   ],
   "source": [
    "# Method 2\n",
    "\n",
    "ex = np.random.randint(192, size=(2,3,5))\n",
    "print(ex)\n",
    "\n",
    "print('')\n",
    "print('')\n",
    "\n",
    "#slicing tests\n",
    "\n",
    "     #1st wich , group 2nd wich rows , 3rd wich columns\n",
    "    \n",
    "print(f'This is slicing: \\n\\n {ex[1, 1:, 1:4]}, \\n\\n here we have the values from second to last row, in the second to the third column of the second grup')"
   ]
  },
  {
   "cell_type": "code",
   "execution_count": 8,
   "metadata": {},
   "outputs": [],
   "source": [
    "import random"
   ]
  },
  {
   "cell_type": "code",
   "execution_count": 9,
   "metadata": {},
   "outputs": [
    {
     "data": {
      "text/plain": [
       "array([[[16, 49, 83,  0, 68],\n",
       "        [16, 49, 83,  0, 68],\n",
       "        [16, 49, 83,  0, 68]],\n",
       "\n",
       "       [[16, 49, 83,  0, 68],\n",
       "        [16, 49, 83,  0, 68],\n",
       "        [16, 49, 83,  0, 68]]])"
      ]
     },
     "execution_count": 9,
     "metadata": {},
     "output_type": "execute_result"
    }
   ],
   "source": [
    "# Method 3\n",
    " \n",
    "\n",
    "ls = random.sample(range(100), k= 5)\n",
    "\n",
    "list_of_lists = [ls] * 3\n",
    "\n",
    "#print(list_of_lists)\n",
    "\n",
    "grup_of_2_list_of_lists = [list_of_lists] * 2\n",
    "\n",
    "#print(grup_of_2_list_of_lists)\n",
    "\n",
    "np.array(grup_of_2_list_of_lists)\n"
   ]
  },
  {
   "cell_type": "markdown",
   "metadata": {},
   "source": [
    "#### 4. Print *a*.\n"
   ]
  },
  {
   "cell_type": "code",
   "execution_count": 10,
   "metadata": {},
   "outputs": [
    {
     "name": "stdout",
     "output_type": "stream",
     "text": [
      "[[[0.69471841 0.95293258 0.56994401 0.15962752 0.3289983 ]\n",
      "  [0.06782549 0.78106273 0.44663008 0.38004194 0.80580282]\n",
      "  [0.44912041 0.01126432 0.24276345 0.77431388 0.36342136]]\n",
      "\n",
      " [[0.68783512 0.60136456 0.74548641 0.30369637 0.17862069]\n",
      "  [0.89259473 0.37947965 0.29616912 0.37257548 0.86643742]\n",
      "  [0.65101742 0.51528465 0.63257559 0.6080083  0.61579248]]]\n"
     ]
    }
   ],
   "source": [
    "# your code here\n",
    "print(a)"
   ]
  },
  {
   "cell_type": "markdown",
   "metadata": {},
   "source": [
    "#### 5. Create a 5x2x3 3-dimensional array with all values equaling 1. Assign the array to variable *b*."
   ]
  },
  {
   "cell_type": "code",
   "execution_count": 11,
   "metadata": {},
   "outputs": [],
   "source": [
    "# your code here\n",
    "\n",
    "b = np.ones((5,2,3), dtype = int) # the default dtype is float"
   ]
  },
  {
   "cell_type": "markdown",
   "metadata": {},
   "source": [
    "#### 6. Print *b*.\n"
   ]
  },
  {
   "cell_type": "code",
   "execution_count": 12,
   "metadata": {},
   "outputs": [
    {
     "name": "stdout",
     "output_type": "stream",
     "text": [
      "[[[1 1 1]\n",
      "  [1 1 1]]\n",
      "\n",
      " [[1 1 1]\n",
      "  [1 1 1]]\n",
      "\n",
      " [[1 1 1]\n",
      "  [1 1 1]]\n",
      "\n",
      " [[1 1 1]\n",
      "  [1 1 1]]\n",
      "\n",
      " [[1 1 1]\n",
      "  [1 1 1]]]\n"
     ]
    }
   ],
   "source": [
    "# your code here\n",
    "print(b)"
   ]
  },
  {
   "cell_type": "markdown",
   "metadata": {},
   "source": [
    "#### 7. Do *a* and *b* have the same size? How do you prove that in Python code?"
   ]
  },
  {
   "cell_type": "code",
   "execution_count": 13,
   "metadata": {},
   "outputs": [
    {
     "name": "stdout",
     "output_type": "stream",
     "text": [
      "30\n",
      "30\n",
      "True\n"
     ]
    }
   ],
   "source": [
    "# your code here\n",
    "a_size = a.size\n",
    "b_size = b.size\n",
    "print(a_size)\n",
    "print(b_size)\n",
    "\n",
    "print(a_size == b_size)"
   ]
  },
  {
   "cell_type": "markdown",
   "metadata": {},
   "source": [
    "#### 8. Are you able to add *a* and *b*? Why or why not?\n"
   ]
  },
  {
   "cell_type": "code",
   "execution_count": 14,
   "metadata": {},
   "outputs": [
    {
     "ename": "ValueError",
     "evalue": "operands could not be broadcast together with shapes (2,3,5) (5,2,3) ",
     "output_type": "error",
     "traceback": [
      "\u001b[0;31m---------------------------------------------------------------------------\u001b[0m",
      "\u001b[0;31mValueError\u001b[0m                                Traceback (most recent call last)",
      "\u001b[0;32m<ipython-input-14-af67f426a3ac>\u001b[0m in \u001b[0;36m<module>\u001b[0;34m\u001b[0m\n\u001b[1;32m      1\u001b[0m \u001b[0;31m# your answer here\u001b[0m\u001b[0;34m\u001b[0m\u001b[0;34m\u001b[0m\u001b[0;34m\u001b[0m\u001b[0m\n\u001b[1;32m      2\u001b[0m \u001b[0;34m\u001b[0m\u001b[0m\n\u001b[0;32m----> 3\u001b[0;31m \u001b[0msum_a_b\u001b[0m \u001b[0;34m=\u001b[0m \u001b[0ma\u001b[0m \u001b[0;34m+\u001b[0m \u001b[0mb\u001b[0m\u001b[0;34m\u001b[0m\u001b[0;34m\u001b[0m\u001b[0m\n\u001b[0m\u001b[1;32m      4\u001b[0m \u001b[0;34m\u001b[0m\u001b[0m\n\u001b[1;32m      5\u001b[0m \u001b[0;31m#because the arrays have diverent shapes!\u001b[0m\u001b[0;34m\u001b[0m\u001b[0;34m\u001b[0m\u001b[0;34m\u001b[0m\u001b[0m\n",
      "\u001b[0;31mValueError\u001b[0m: operands could not be broadcast together with shapes (2,3,5) (5,2,3) "
     ]
    }
   ],
   "source": [
    "# your answer here\n",
    "\n",
    "sum_a_b = a + b\n",
    "\n",
    "#because the arrays have diverent shapes!"
   ]
  },
  {
   "cell_type": "markdown",
   "metadata": {},
   "source": [
    "#### 9. Transpose *b* so that it has the same structure of *a* (i.e. become a 2x3x5 array). Assign the transposed array to variable *c*."
   ]
  },
  {
   "cell_type": "code",
   "execution_count": 15,
   "metadata": {},
   "outputs": [
    {
     "name": "stdout",
     "output_type": "stream",
     "text": [
      "[[[1 1 1 1 1]\n",
      "  [1 1 1 1 1]]\n",
      "\n",
      " [[1 1 1 1 1]\n",
      "  [1 1 1 1 1]]\n",
      "\n",
      " [[1 1 1 1 1]\n",
      "  [1 1 1 1 1]]]\n",
      "\n",
      "\n",
      "[[[1 1 1 1 1]\n",
      "  [1 1 1 1 1]\n",
      "  [1 1 1 1 1]]\n",
      "\n",
      " [[1 1 1 1 1]\n",
      "  [1 1 1 1 1]\n",
      "  [1 1 1 1 1]]]\n"
     ]
    }
   ],
   "source": [
    "# your code here\n",
    "print(b.transpose())\n",
    "\n",
    "#HOW DO I DO THIS WITH TRANSPOSE? WHEN I TRANSPOSE B (5,2,3) I GET AN ARRAY\n",
    "#WITH SHAPE (3,2,5) AND NOT (2,3,5)??\n",
    "\n",
    "print('')\n",
    "print('')\n",
    "\n",
    "\n",
    "c = np.reshape(b, (2,3,5))\n",
    "\n",
    "print(c)\n"
   ]
  },
  {
   "cell_type": "markdown",
   "metadata": {},
   "source": [
    "#### 10. Try to add *a* and *c*. Now it should work. Assign the sum to variable *d*. But why does it work now?"
   ]
  },
  {
   "cell_type": "code",
   "execution_count": 52,
   "metadata": {},
   "outputs": [
    {
     "name": "stdout",
     "output_type": "stream",
     "text": [
      "[[[1.69471841 1.95293258 1.56994401 1.15962752 1.3289983 ]\n",
      "  [1.06782549 1.78106273 1.44663008 1.38004194 1.80580282]\n",
      "  [1.44912041 1.01126432 1.24276345 1.77431388 1.36342136]]\n",
      "\n",
      " [[1.68783512 1.60136456 1.74548641 1.30369637 1.17862069]\n",
      "  [1.89259473 1.37947965 1.29616912 1.37257548 1.86643742]\n",
      "  [1.65101742 1.51528465 1.63257559 1.6080083  1.61579248]]]\n"
     ]
    }
   ],
   "source": [
    "# your code/answer here\n",
    "d = a + c\n",
    "\n",
    "print(d)"
   ]
  },
  {
   "cell_type": "markdown",
   "metadata": {},
   "source": [
    "#### 11. Print *a* and *d*. Notice the difference and relation of the two array in terms of the values? Explain."
   ]
  },
  {
   "cell_type": "code",
   "execution_count": 53,
   "metadata": {},
   "outputs": [
    {
     "name": "stdout",
     "output_type": "stream",
     "text": [
      "[[[0.69471841 0.95293258 0.56994401 0.15962752 0.3289983 ]\n",
      "  [0.06782549 0.78106273 0.44663008 0.38004194 0.80580282]\n",
      "  [0.44912041 0.01126432 0.24276345 0.77431388 0.36342136]]\n",
      "\n",
      " [[0.68783512 0.60136456 0.74548641 0.30369637 0.17862069]\n",
      "  [0.89259473 0.37947965 0.29616912 0.37257548 0.86643742]\n",
      "  [0.65101742 0.51528465 0.63257559 0.6080083  0.61579248]]]\n",
      "\n",
      "\n",
      "[[[1.69471841 1.95293258 1.56994401 1.15962752 1.3289983 ]\n",
      "  [1.06782549 1.78106273 1.44663008 1.38004194 1.80580282]\n",
      "  [1.44912041 1.01126432 1.24276345 1.77431388 1.36342136]]\n",
      "\n",
      " [[1.68783512 1.60136456 1.74548641 1.30369637 1.17862069]\n",
      "  [1.89259473 1.37947965 1.29616912 1.37257548 1.86643742]\n",
      "  [1.65101742 1.51528465 1.63257559 1.6080083  1.61579248]]]\n",
      "\n",
      "\n"
     ]
    },
    {
     "data": {
      "text/plain": [
       "'array d is the sum of the values from array a with\\nvalues from array c'"
      ]
     },
     "execution_count": 53,
     "metadata": {},
     "output_type": "execute_result"
    }
   ],
   "source": [
    "# your code/answer here\n",
    "print(a)\n",
    "\n",
    "print('')\n",
    "print('')\n",
    "\n",
    "print(d)\n",
    "\n",
    "print('')\n",
    "print('')\n",
    "\n",
    "\"\"\"array d is the sum of the values from array a with\n",
    "values from array c\"\"\""
   ]
  },
  {
   "cell_type": "markdown",
   "metadata": {},
   "source": [
    "#### 12. Multiply *a* and *c*. Assign the result to *e*."
   ]
  },
  {
   "cell_type": "code",
   "execution_count": 54,
   "metadata": {},
   "outputs": [],
   "source": [
    "# your code here\n",
    "e = a * c"
   ]
  },
  {
   "cell_type": "markdown",
   "metadata": {},
   "source": [
    "#### 13. Does *e* equal to *a*? Why or why not?\n"
   ]
  },
  {
   "cell_type": "code",
   "execution_count": 55,
   "metadata": {},
   "outputs": [
    {
     "name": "stdout",
     "output_type": "stream",
     "text": [
      "[[[0.69471841 0.95293258 0.56994401 0.15962752 0.3289983 ]\n",
      "  [0.06782549 0.78106273 0.44663008 0.38004194 0.80580282]\n",
      "  [0.44912041 0.01126432 0.24276345 0.77431388 0.36342136]]\n",
      "\n",
      " [[0.68783512 0.60136456 0.74548641 0.30369637 0.17862069]\n",
      "  [0.89259473 0.37947965 0.29616912 0.37257548 0.86643742]\n",
      "  [0.65101742 0.51528465 0.63257559 0.6080083  0.61579248]]]\n",
      "\n",
      "\n",
      "[[[0.69471841 0.95293258 0.56994401 0.15962752 0.3289983 ]\n",
      "  [0.06782549 0.78106273 0.44663008 0.38004194 0.80580282]\n",
      "  [0.44912041 0.01126432 0.24276345 0.77431388 0.36342136]]\n",
      "\n",
      " [[0.68783512 0.60136456 0.74548641 0.30369637 0.17862069]\n",
      "  [0.89259473 0.37947965 0.29616912 0.37257548 0.86643742]\n",
      "  [0.65101742 0.51528465 0.63257559 0.6080083  0.61579248]]]\n"
     ]
    },
    {
     "data": {
      "text/plain": [
       "'They are the same because we are multypling\\neach value from array a by 1'"
      ]
     },
     "execution_count": 55,
     "metadata": {},
     "output_type": "execute_result"
    }
   ],
   "source": [
    "# your code/answer here\n",
    "print(e)\n",
    "\n",
    "print('')\n",
    "print('')\n",
    "\n",
    "print(e)\n",
    "\n",
    "\"\"\"They are the same because we are multypling\n",
    "each value from array a by 1\"\"\""
   ]
  },
  {
   "cell_type": "markdown",
   "metadata": {},
   "source": [
    "#### 14. Identify the max, min, and mean values in *d*. Assign those values to variables *d_max*, *d_min* and *d_mean*."
   ]
  },
  {
   "cell_type": "code",
   "execution_count": 56,
   "metadata": {},
   "outputs": [],
   "source": [
    "# your code here\n",
    "d_max = np.max(d)\n",
    "d_min = np.min(d)\n",
    "d_mean = np.mean(d)\n",
    "\n"
   ]
  },
  {
   "cell_type": "markdown",
   "metadata": {},
   "source": [
    "#### 15. Now we want to label the values in *d*. First create an empty array *f* with the same shape (i.e. 2x3x5) as *d* using `np.empty`.\n"
   ]
  },
  {
   "cell_type": "code",
   "execution_count": 57,
   "metadata": {},
   "outputs": [],
   "source": [
    "# your code here\n",
    "\n",
    "f = np.empty((2,3,5))\n"
   ]
  },
  {
   "cell_type": "markdown",
   "metadata": {},
   "source": [
    "#### 16. Populate the values in *f*. \n",
    "\n",
    "For each value in *d*, if it's larger than *d_min* but smaller than *d_mean*, assign 25 to the corresponding value in *f*. If a value in *d* is larger than *d_mean* but smaller than *d_max*, assign 75 to the corresponding value in *f*. If a value equals to *d_mean*, assign 50 to the corresponding value in *f*. Assign 0 to the corresponding value(s) in *f* for *d_min* in *d*. Assign 100 to the corresponding value(s) in *f* for *d_max* in *d*. In the end, f should have only the following values: 0, 25, 50, 75, and 100.\n",
    "\n",
    "**Note**: you don't have to use Numpy in this question."
   ]
  },
  {
   "cell_type": "code",
   "execution_count": 74,
   "metadata": {},
   "outputs": [],
   "source": [
    "d = [[[1.85836099, 1.67064465, 1.62576044, 1.40243961, 1.88454931],\n",
    "[1.75354326, 1.69403643, 1.36729252, 1.61415071, 1.12104981],\n",
    "[1.72201435, 1.1862918 , 1.87078449, 1.7726778 , 1.88180042]],\n",
    "[[1.44747908, 1.31673383, 1.02000951, 1.52218947, 1.97066381],\n",
    "[1.79129243, 1.74983003, 1.96028037, 1.85166831, 1.65450881],\n",
    "[1.18068344, 1.9587381 , 1.00656599, 1.93402165, 1.73514584]]]\n",
    "\n",
    "d = np.array(d)\n",
    "s = d.shape\n",
    "\n",
    "#HERE WE ASSIGNE EACH POSITION OF THE ARRAY THROUGH INDEXING A VALUE\n",
    "# DEPENDING ON THE CONDITION\n",
    "\n",
    "for gr in range(s[0]):\n",
    "    for row in range(s[1]):\n",
    "        for col in range(s[2]):\n",
    "            if (d[gr, row, col] > d_min) & (d[gr, row, col] < d_mean):\n",
    "                f[gr,row,col] = 25\n",
    "            elif (d[gr, row, col] > d_mean) & (d[gr, row, col] < d_max):\n",
    "                f[gr,row,col] = 75\n",
    "            elif d[gr, row, col] == d_min:\n",
    "                f[gr,row,col] = 0\n",
    "            elif d[gr, row, col] == d_max:\n",
    "                f[gr,row,col] = 100\n"
   ]
  },
  {
   "cell_type": "markdown",
   "metadata": {},
   "source": [
    "#### 17. Print *d* and *f*. Do you have your expected *f*?\n",
    "For instance, if your *d* is:\n",
    "```python\n",
    "[[[1.85836099, 1.67064465, 1.62576044, 1.40243961, 1.88454931],\n",
    "[1.75354326, 1.69403643, 1.36729252, 1.61415071, 1.12104981],\n",
    "[1.72201435, 1.1862918 , 1.87078449, 1.7726778 , 1.88180042]],\n",
    "[[1.44747908, 1.31673383, 1.02000951, 1.52218947, 1.97066381],\n",
    "[1.79129243, 1.74983003, 1.96028037, 1.85166831, 1.65450881],\n",
    "[1.18068344, 1.9587381 , 1.00656599, 1.93402165, 1.73514584]]]\n",
    "```\n",
    "Your *f* should be:\n",
    "```python\n",
    "[[[ 75.,  75.,  75.,  25.,  75.],\n",
    "[ 75.,  75.,  25.,  25.,  25.],\n",
    "[ 75.,  25.,  75.,  75.,  75.]],\n",
    "[[ 25.,  25.,  25.,  25., 100.],\n",
    "[ 75.,  75.,  75.,  75.,  75.],\n",
    "[ 25.,  75.,   0.,  75.,  75.]]]\n",
    "```"
   ]
  },
  {
   "cell_type": "code",
   "execution_count": 71,
   "metadata": {},
   "outputs": [
    {
     "name": "stdout",
     "output_type": "stream",
     "text": [
      "[[[75. 75. 75. 25. 75.]\n",
      "  [75. 75. 25. 75. 25.]\n",
      "  [75. 25. 75. 75. 75.]]\n",
      "\n",
      " [[25. 25. 25. 75. 25.]\n",
      "  [75. 75. 25. 75. 75.]\n",
      "  [25. 75. 75. 75. 75.]]]\n"
     ]
    }
   ],
   "source": [
    "\n",
    "print(f)\n"
   ]
  },
  {
   "cell_type": "markdown",
   "metadata": {},
   "source": [
    "#### 18. Bonus question: instead of using numbers (i.e. 0, 25, 50, 75, and 100), use string values  (\"A\", \"B\", \"C\", \"D\", and \"E\") to label the array elements. For the example above, the expected result is:\n",
    "\n",
    "```python\n",
    "[[[ 'D',  'D',  'D',  'B',  'D'],\n",
    "[ 'D',  'D',  'B',  'B',  'B'],\n",
    "[ 'D',  'B',  'D',  'D',  'D']],\n",
    "[[ 'B',  'B',  'B',  'B',  'E'],\n",
    "[ 'D',  'D',  'D',  'D',  'D'],\n",
    "[ 'B',  'D',   'A',  'D', 'D']]]\n",
    "```\n",
    "**Note**: you don't have to use Numpy in this question."
   ]
  },
  {
   "cell_type": "code",
   "execution_count": 67,
   "metadata": {},
   "outputs": [
    {
     "name": "stdout",
     "output_type": "stream",
     "text": [
      "[[['D' 'E' 'D' 'B' 'B']\n",
      "  ['B' 'D' 'B' 'B' 'D']\n",
      "  ['B' 'A' 'B' 'D' 'B']]\n",
      "\n",
      " [['D' 'D' 'D' 'B' 'B']\n",
      "  ['D' 'B' 'B' 'B' 'D']\n",
      "  ['D' 'D' 'D' 'D' 'D']]]\n"
     ]
    }
   ],
   "source": [
    "# your code here\n",
    "\n",
    "new_array = np.empty((2,3,5), dtype = str)\n",
    "\n",
    "new_array[(d_min < d) & (d < d_mean)] = 'B'\n",
    "new_array[(d_mean < d) & (d < d_max)] = 'D'\n",
    "new_array[d == d_mean] = 'C'\n",
    "new_array[d == d_min] = 'A'\n",
    "new_array[d == d_max] = 'E'\n",
    "\n",
    "#tis returns an array all True if we look at the combination of all conditions\n",
    "# but depending where the condition is True we add the value we are equaling that condition\n",
    "\n",
    "print(new_array)\n",
    "\n",
    "#we can use booleas or 'masks' index arrays and use them as indices,\n",
    "#  Boolean arrays must be of the same shape as the initial dimensions of the array being indexed."
   ]
  },
  {
   "cell_type": "code",
   "execution_count": 73,
   "metadata": {},
   "outputs": [
    {
     "name": "stdout",
     "output_type": "stream",
     "text": [
      "[[[ True  True  True  True  True]\n",
      "  [ True  True  True  True  True]\n",
      "  [ True  True  True  True  True]]\n",
      "\n",
      " [[ True  True  True  True  True]\n",
      "  [ True  True  True  True  True]\n",
      "  [ True  True  True  True  True]]]\n"
     ]
    }
   ],
   "source": [
    "#MASK INDEX\n",
    "\n",
    "print((d_min < d) | (d < d_mean) | (d_mean < d) & (d < d_max) | (d == d_mean) | (d == d_min) | (d == d_max)) "
   ]
  }
 ],
 "metadata": {
  "kernelspec": {
   "display_name": "Python 3",
   "language": "python",
   "name": "python3"
  },
  "language_info": {
   "codemirror_mode": {
    "name": "ipython",
    "version": 3
   },
   "file_extension": ".py",
   "mimetype": "text/x-python",
   "name": "python",
   "nbconvert_exporter": "python",
   "pygments_lexer": "ipython3",
   "version": "3.7.4"
  }
 },
 "nbformat": 4,
 "nbformat_minor": 2
}
